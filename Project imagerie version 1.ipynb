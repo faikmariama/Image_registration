{
 "cells": [
  {
   "cell_type": "code",
   "execution_count": 1,
   "id": "a19fb200",
   "metadata": {},
   "outputs": [],
   "source": [
    "from __future__ import division\n",
    "\n",
    "import math as math\n",
    "import numpy as np\n",
    "import scipy as scp\n",
    "import pylab as pyl\n",
    "from matplotlib import cm\n",
    "import matplotlib.pyplot as plt\n",
    "import scipy.io as sio\n",
    "from matplotlib.pyplot import imshow as imageplot\n",
    "from mpl_toolkits.mplot3d import Axes3D\n",
    "import matplotlib.image as mpimg\n",
    "import warnings\n",
    "warnings.filterwarnings('ignore')\n",
    "\n",
    "%matplotlib inline\n",
    "%load_ext autoreload\n",
    "%autoreload 2\n"
   ]
  },
  {
   "cell_type": "code",
   "execution_count": 2,
   "id": "57214d46",
   "metadata": {},
   "outputs": [],
   "source": [
    "def grad_x(img, adjoint):\n",
    "    sx , sy = np.shape(img)\n",
    "    diff_x = np.copy(img)\n",
    "    \n",
    "    if adjoint==0: # ça c'est pour calculer le gradient de l'opérateur lui meme\n",
    "        for x in range(sx):\n",
    "            if x==sx-1:\n",
    "                xnext=0\n",
    "            else:\n",
    "                xnext=x+1\n",
    "            for y in range(sy):\n",
    "                diff_x[x,y] = img[xnext,y]- img[x,y]\n",
    "    else:  # là on calcule le gradien de l'operateur adjoint\n",
    "        for x in range(sx):\n",
    "            if x==0:\n",
    "                xprev=sx-1\n",
    "            else:\n",
    "                xprev=x-1\n",
    "            for y in range(sy):\n",
    "                diff_x[x,y] = img[xprev,y]- img[x,y]\n",
    "    \n",
    "    return diff_x\n",
    "    \n",
    "def grad_y(img, adjoint):\n",
    "    sx , sy = np.shape(img)\n",
    "    diff_y =  np.copy(img)\n",
    "\n",
    "    if adjoint==0:\n",
    "       \n",
    "        for y in range(sy):\n",
    "            if y==sy-1:\n",
    "                ynext=0\n",
    "            else:\n",
    "                ynext=y+1\n",
    "            for x in range(sx):\n",
    "                diff_y[x,y] = img[x,ynext]- img[x,y]\n",
    "    else:\n",
    "        for y in range(sy):\n",
    "            if y==0:\n",
    "                yprev=sy-1\n",
    "            else:\n",
    "                yprev=y-1\n",
    "            for x in range(sx):\n",
    "                diff_y[x,y] = img[x,yprev]- img[x,y]\n",
    "    \n",
    "    return diff_y\n",
    "\n",
    "def grad(v):\n",
    "    gr = [grad_x(v),grad_y(v)]\n",
    "    return "
   ]
  },
  {
   "cell_type": "code",
   "execution_count": 3,
   "id": "f665c12f",
   "metadata": {},
   "outputs": [],
   "source": [
    "# on definit la fonction D\n",
    "\n",
    "def M(t,v1):\n",
    "    t1 = t[0,:,:]\n",
    "    t2 = t[1,:,:]\n",
    "    dx = grad_x(v1)\n",
    "    dy = grad_y(v1)\n",
    "    return dx*t1 + dy*t2\n",
    "def M_adjoint(s,v):\n",
    "    dx = grad_x(v,0)\n",
    "    dy = grad_y(v,0)\n",
    "    m,n = v.shape\n",
    "    A = np.zeros(2,m,n)\n",
    "    A[0,:,:] = dx * s\n",
    "    A[1,:,:] = dy * s\n",
    "    return A\n",
    "def D(t,v1,v)"
   ]
  },
  {
   "cell_type": "code",
   "execution_count": null,
   "id": "e1a07f06",
   "metadata": {},
   "outputs": [],
   "source": [
    "# on definit la fonction R"
   ]
  },
  {
   "cell_type": "code",
   "execution_count": 4,
   "id": "031337c0",
   "metadata": {},
   "outputs": [
    {
     "ename": "SyntaxError",
     "evalue": "invalid syntax (<ipython-input-4-d68e1cdcf23f>, line 9)",
     "output_type": "error",
     "traceback": [
      "\u001b[1;36m  File \u001b[1;32m\"<ipython-input-4-d68e1cdcf23f>\"\u001b[1;36m, line \u001b[1;32m9\u001b[0m\n\u001b[1;33m    return term1 + term2\u001b[0m\n\u001b[1;37m    ^\u001b[0m\n\u001b[1;31mSyntaxError\u001b[0m\u001b[1;31m:\u001b[0m invalid syntax\n"
     ]
    }
   ],
   "source": [
    "#definir  l'energie E\n",
    "\n",
    "def E(v1,t1,t2,v2,eps):\n",
    "    t = []\n",
    "    t = np.append(t1)\n",
    "    t = np.append(t2)\n",
    "    term1 = np.linalg.norm(v1-v2-M(t,v1)) #sum((v1 + np.dot(grad(v1,adj),t) - v2**2)**2) #term attachée au donnée\n",
    "    term2 =  sum(np.sqrt(np.abs(grad(t1))**2+np.abs(grad(t2))**2 + eps)# term de regularisation\n",
    "    return term1 + term2"
   ]
  },
  {
   "cell_type": "code",
   "execution_count": null,
   "id": "523f0346",
   "metadata": {},
   "outputs": [],
   "source": []
  }
 ],
 "metadata": {
  "kernelspec": {
   "display_name": "Python 3",
   "language": "python",
   "name": "python3"
  },
  "language_info": {
   "codemirror_mode": {
    "name": "ipython",
    "version": 3
   },
   "file_extension": ".py",
   "mimetype": "text/x-python",
   "name": "python",
   "nbconvert_exporter": "python",
   "pygments_lexer": "ipython3",
   "version": "3.8.8"
  }
 },
 "nbformat": 4,
 "nbformat_minor": 5
}
